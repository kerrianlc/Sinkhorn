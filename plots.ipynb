{
 "cells": [
  {
   "metadata": {},
   "cell_type": "markdown",
   "source": [
    "\n",
    "this notebook contains all plot used in our report."
   ],
   "id": "85e64232e73d93e"
  },
  {
   "metadata": {
    "ExecuteTime": {
     "end_time": "2024-10-27T12:22:40.818550Z",
     "start_time": "2024-10-27T12:22:39.953824Z"
    }
   },
   "cell_type": "code",
   "source": [
    "import numpy as np\n",
    "import torch\n",
    "import scipy\n",
    "import os\n",
    "import matplotlib.pyplot as plt"
   ],
   "id": "1c0c8c1656e65b4b",
   "outputs": [],
   "execution_count": 2
  },
  {
   "metadata": {},
   "cell_type": "markdown",
   "source": "## 1. MNIST experiments",
   "id": "ff066a3786bc55d9"
  },
  {
   "metadata": {},
   "cell_type": "markdown",
   "source": "## Imports",
   "id": "aaedbc4e90be851a"
  },
  {
   "metadata": {
    "ExecuteTime": {
     "end_time": "2024-10-27T12:22:41.897435Z",
     "start_time": "2024-10-27T12:22:40.822348Z"
    }
   },
   "cell_type": "code",
   "source": [
    "from ManifoldProjectLoss import ManifoldProjection\n",
    "import torchvision\n",
    "import torchvision.transforms as transforms\n",
    "from sklearn.neighbors import NearestNeighbors\n",
    "\n"
   ],
   "id": "498ed4b31edce989",
   "outputs": [],
   "execution_count": 3
  },
  {
   "metadata": {},
   "cell_type": "markdown",
   "source": "## Load MNIST data",
   "id": "61d676973a8a4431"
  },
  {
   "metadata": {
    "ExecuteTime": {
     "end_time": "2024-10-27T12:22:42.030023Z",
     "start_time": "2024-10-27T12:22:41.904887Z"
    }
   },
   "cell_type": "code",
   "source": [
    "\n",
    "\n",
    "# Download MNIST training\n",
    "trainset = torchvision.datasets.MNIST(root='./data', train=True, download=True)\n",
    "testset = torchvision.datasets.MNIST(root='./data', train=False, download=True)\n",
    "\n",
    "#  Convert training data to NumPy arrays\n",
    "train_images = trainset.data.numpy()   # Shape: (60000, 28, 28)\n",
    "train_labels = trainset.targets.numpy()  # Shape: (60000,)\n",
    "test_images = testset.data.numpy()    # Shape: (10000, 28, 28)\n",
    "test_labels = testset.targets.numpy()  # Shape: (10000,)\n",
    "\n",
    "# flatten images into normalized vectors\n",
    "X_train = train_images.reshape(train_images.shape[0], -1)  / 255 # Shape: (60000, 784)\n",
    "X_test = test_images.reshape(test_images.shape[0], -1)  /255   # Shape: (10000, 784)\n",
    "Y_train = train_labels\n",
    "Y_test = test_labels\n",
    "# shapes print\n",
    "print(f\"Train images shape: {X_train.shape}, Train labels shape: {Y_train.shape}\")\n",
    "print(f\"Test images shape: {X_test.shape}, Test labels shape: {Y_test.shape}\")\n",
    "\n",
    "def get_image(flatten_img):\n",
    "    return flatten_img.reshape(28, 28)\n",
    "\n",
    "index_4_test = np.where(test_labels==4)[0]\n",
    "index_8_test = np.where(test_labels==8)[0]\n",
    "index_9_test = np.where(test_labels==9)[0]\n"
   ],
   "id": "30f421d550723fe6",
   "outputs": [
    {
     "name": "stdout",
     "output_type": "stream",
     "text": [
      "Train images shape: (60000, 784), Train labels shape: (60000,)\n",
      "Test images shape: (10000, 784), Test labels shape: (10000,)\n"
     ]
    }
   ],
   "execution_count": 4
  },
  {
   "cell_type": "code",
   "id": "initial_id",
   "metadata": {
    "collapsed": true,
    "ExecuteTime": {
     "end_time": "2024-10-27T12:22:42.042594Z",
     "start_time": "2024-10-27T12:22:42.039234Z"
    }
   },
   "source": [
    "    \n",
    "def gradient_descent_on_manifold_cost_function(start, end, data):\n",
    "    device = \"cuda\" if torch.cuda.is_available() else \"cpu\"\n",
    "    lr=1e-2\n",
    "    img_x = start\n",
    "    img_y = end\n",
    "    x = torch.tensor(img_x).to(device).requires_grad_(True)# 7\n",
    "    y = torch.tensor(img_y).to(device) # 0\n",
    "    \n",
    "    manifold_proj = ManifoldProjection(torch.tensor(data), k_neighbor=15, closing_manifold_ratio=0.1, manifold_ratio=0.8, device=device)\n",
    "    optimizer = torch.optim.SGD([x], lr=lr)\n",
    "    num_iterations = 104\n",
    "    history = []\n",
    "    # Gradient descent loop\n",
    "    for i in range(num_iterations):\n",
    "        optimizer.zero_grad()\n",
    "        \n",
    "        loss = manifold_proj(x,y)\n",
    "        loss.backward()\n",
    "        optimizer.step()\n",
    "        \n",
    "        history.append(x.clone().detach().to(\"cpu\").numpy())\n",
    "    history = np.array(history)\n",
    "    return history"
   ],
   "outputs": [],
   "execution_count": 5
  },
  {
   "metadata": {
    "ExecuteTime": {
     "end_time": "2024-10-27T12:22:42.085682Z",
     "start_time": "2024-10-27T12:22:42.082695Z"
    }
   },
   "cell_type": "code",
   "source": [
    "def save_plots(history, name, labels = None):\n",
    "    os.makedirs('./plots',exist_ok=True )\n",
    "    os.makedirs(f'./plots/{name}', exist_ok=True )\n",
    "    if labels is None:\n",
    "        labels = range(len(history))\n",
    "    iterator = zip(history, labels)\n",
    "    for flatten_img,label in iterator:\n",
    "        img = flatten_img.reshape(28,28)\n",
    "        plt.imsave(f\"./plots/{name}/mnist_{name}_{label}.png\", img)\n",
    "def check_plots(history):\n",
    "    fig, axes = plt.subplots(len(history) // 4, 2, figsize=(50, 400))\n",
    "    axes = axes.flatten()\n",
    "    for k,ax in enumerate(axes):\n",
    "        img = history[2*k].reshape(28,28)\n",
    "        ax.imshow(img, cmap='gray')\n",
    "        ax.set_title(f\"{2*k}th iteration\")"
   ],
   "id": "ee43bbbf2f033c20",
   "outputs": [],
   "execution_count": 6
  },
  {
   "metadata": {},
   "cell_type": "markdown",
   "source": "### Experiment transformation 7 to 0",
   "id": "7c3cc62ed89801e4"
  },
  {
   "metadata": {
    "ExecuteTime": {
     "end_time": "2024-10-27T12:23:03.785776Z",
     "start_time": "2024-10-27T12:22:42.129297Z"
    }
   },
   "cell_type": "code",
   "source": [
    "history = gradient_descent_on_manifold_cost_function(X_test[0], X_test[3], X_train)\n",
    "save_plots(history[::10], \"7_to_0\", labels= [10*k for k in range(len(history)//10)])"
   ],
   "id": "a5edb889d5d940d4",
   "outputs": [],
   "execution_count": 7
  },
  {
   "metadata": {},
   "cell_type": "markdown",
   "source": "## Experiment transformation 8 to 9",
   "id": "e26feb8ee7694fba"
  },
  {
   "metadata": {
    "ExecuteTime": {
     "end_time": "2024-10-27T12:23:20.270662Z",
     "start_time": "2024-10-27T12:23:03.792180Z"
    }
   },
   "cell_type": "code",
   "source": [
    "img_x = X_test[index_8_test[1]]\n",
    "img_y = X_test[index_9_test[0]]\n",
    "history = gradient_descent_on_manifold_cost_function(img_x, img_y, X_train)\n",
    "save_plots(history[::10], \"8_to_9\", labels= [10*k for k in range(len(history)//10)])"
   ],
   "id": "fa89da30138389b3",
   "outputs": [],
   "execution_count": 8
  },
  {
   "metadata": {
    "ExecuteTime": {
     "end_time": "2024-10-27T12:23:20.326483Z",
     "start_time": "2024-10-27T12:23:20.321466Z"
    }
   },
   "cell_type": "code",
   "source": "",
   "id": "4447a152b86b0a82",
   "outputs": [],
   "execution_count": null
  }
 ],
 "metadata": {
  "kernelspec": {
   "display_name": "Python 3",
   "language": "python",
   "name": "python3"
  },
  "language_info": {
   "codemirror_mode": {
    "name": "ipython",
    "version": 2
   },
   "file_extension": ".py",
   "mimetype": "text/x-python",
   "name": "python",
   "nbconvert_exporter": "python",
   "pygments_lexer": "ipython2",
   "version": "2.7.6"
  }
 },
 "nbformat": 4,
 "nbformat_minor": 5
}
