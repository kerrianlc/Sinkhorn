{
 "cells": [
  {
   "metadata": {},
   "cell_type": "markdown",
   "source": "# Import",
   "id": "611194a826159572"
  },
  {
   "cell_type": "code",
   "id": "initial_id",
   "metadata": {
    "collapsed": true,
    "ExecuteTime": {
     "end_time": "2024-10-11T10:06:44.217082Z",
     "start_time": "2024-10-11T10:06:44.215845Z"
    }
   },
   "source": [
    "import torchvision\n",
    "import torchvision.transforms as transforms\n",
    "import numpy as np\n",
    "from sklearn.neighbors import NearestNeighbors\n",
    "import scipy\n",
    "from geosink.sinkhorn import GeoSinkhorn\n"
   ],
   "outputs": [],
   "execution_count": null
  },
  {
   "metadata": {},
   "cell_type": "markdown",
   "source": "## Load MNIST",
   "id": "dabe8bfd5fa683c5"
  },
  {
   "metadata": {
    "ExecuteTime": {
     "end_time": "2024-10-11T10:14:33.322326Z",
     "start_time": "2024-10-11T10:14:33.206670Z"
    }
   },
   "cell_type": "code",
   "source": [
    "\n",
    "\n",
    "# Download MNIST training\n",
    "trainset = torchvision.datasets.MNIST(root='./data', train=True, download=True)\n",
    "testset = torchvision.datasets.MNIST(root='./data', train=False, download=True)\n",
    "\n",
    "#  Convert training data to NumPy arrays\n",
    "train_images = trainset.data.numpy()   # Shape: (60000, 28, 28)\n",
    "train_labels = trainset.targets.numpy()  # Shape: (60000,)\n",
    "test_images = testset.data.numpy()    # Shape: (10000, 28, 28)\n",
    "test_labels = testset.targets.numpy()  # Shape: (10000,)\n",
    "\n",
    "# flatten images into normalized vectors\n",
    "X_train = train_images.reshape(train_images.shape[0], -1)  / 255 # Shape: (60000, 784)\n",
    "X_test = test_images.reshape(test_images.shape[0], -1)  /255   # Shape: (10000, 784)\n",
    "Y_train = train_labels\n",
    "Y_test = test_labels\n",
    "# shapes print\n",
    "print(f\"Train images shape: {X_train.shape}, Train labels shape: {Y_train.shape}\")\n",
    "print(f\"Test images shape: {X_test.shape}, Test labels shape: {Y_test.shape}\")\n",
    "\n",
    "def get_image(flatten_img):\n",
    "    return flatten_img.reshape(28, 28)\n"
   ],
   "id": "32307bfa3983bfc4",
   "outputs": [
    {
     "name": "stdout",
     "output_type": "stream",
     "text": [
      "Train images shape: (60000, 784), Train labels shape: (60000,)\n",
      "Test images shape: (10000, 784), Test labels shape: (10000,)\n"
     ]
    }
   ],
   "execution_count": 14
  },
  {
   "metadata": {},
   "cell_type": "markdown",
   "source": "# COO Adjacency  and Laplacian computation",
   "id": "25b5dee158758f6c"
  },
  {
   "metadata": {
    "ExecuteTime": {
     "end_time": "2024-10-11T10:06:46.403818Z",
     "start_time": "2024-10-11T10:06:45.918484Z"
    }
   },
   "cell_type": "code",
   "source": [
    "\n",
    "def get_adjancency_matrix(data : np.ndarray, n_neighbors, sigma=1, **kwargs):\n",
    "    \"\"\"\n",
    "    \n",
    "    :param data: (n_samples, n_features)\n",
    "    :param n_neighbors: number of neighbors to connect to each element\n",
    "    :param sigma: normalizing std for gaussian \"reach\"\n",
    "    :param alpha: \n",
    "    :param kwargs: \n",
    "    :return: \n",
    "    \"\"\"\n",
    "    neighborhood = NearestNeighbors(n_neighbors=n_neighbors,**kwargs).fit(data)\n",
    "    # Step 2: Find the K nearest neighbors (including self)\n",
    "    distances, indices = neighborhood.kneighbors(data)\n",
    "    \n",
    "    # Step 3: Construct the row, col, and data for the COO sparse matrix\n",
    "    row_indices = np.repeat(np.arange(data.shape[0]), n_neighbors)  # Repeat each point index n_neighbors times\n",
    "    col_indices = indices.flatten()  # The flattened list of neighbors\n",
    "    connexions_weights = np.exp(- (distances.flatten() / (2*sigma)) )\n",
    "\n",
    "    # Step 4: Create a COO sparse adjacency matrix\n",
    "    coo_adj_matrix = scipy.sparse.coo_matrix((connexions_weights, (row_indices, col_indices)), shape=(data.shape[0], data.shape[0]))\n",
    "    \n",
    "    return coo_adj_matrix\n",
    "    \n",
    "    \n",
    "    #distances = cdist(data, data, metric='euclidean')\n",
    "    #normalized_distances = distances / np.var(distances, axis=0)\n",
    "    #adjacency = np.exp(-normalized_distances**2 / 2 )\n",
    "\n",
    "EPS_LOG = 1e-6\n",
    "EPS_HEAT = 1e-4\n",
    "\n",
    "\n",
    "def get_symmetric_laplacian(A: np.array):\n",
    "    deg = A.sum(axis=1)\n",
    "    deg_sqrt = 1.0 / np.sqrt(deg + 1e-6)\n",
    "    deg_sqrt = np.array(deg_sqrt)[:,0]\n",
    "    deg_sqrt_inv = scipy.sparse.diags(deg_sqrt, format=\"coo\")\n",
    "    id = scipy.sparse.diags(np.ones((A.shape[0],)), format=\"coo\")\n",
    "    return id - deg_sqrt_inv @ A @ deg_sqrt_inv\n",
    "    "
   ],
   "id": "17d10a0d46ea309c",
   "outputs": [],
   "execution_count": 2
  },
  {
   "metadata": {
    "ExecuteTime": {
     "end_time": "2024-10-11T10:12:14.828204Z",
     "start_time": "2024-10-11T10:12:05.775675Z"
    }
   },
   "cell_type": "code",
   "source": [
    "#  build Laplacian \n",
    "data = X_train\n",
    "nb_data = len(X_train)\n",
    "adj = get_adjancency_matrix(data, 15)\n",
    "L = get_symmetric_laplacian(adj)\n"
   ],
   "id": "ca9924d54438b3f7",
   "outputs": [],
   "execution_count": 11
  },
  {
   "metadata": {
    "ExecuteTime": {
     "end_time": "2024-10-11T10:25:59.527462Z",
     "start_time": "2024-10-11T10:25:59.334002Z"
    }
   },
   "cell_type": "code",
   "source": [
    "\n",
    "# instantiate the GeoSinkhorn class\n",
    "geo_sinkhorn = GeoSinkhorn(tau=5.0, order=10, method=\"cheb\", lap=L)\n",
    "\n",
    "def try_sinkhorn():\n",
    "    delta_0 = np.zeros(nb_data,)\n",
    "    delta_0[0]=1\n",
    "    delta_1 = np.zeros(nb_data,)\n",
    "    delta_0[1]=1\n",
    "    # compute the distance between the two signals\n",
    "    dist_w = geo_sinkhorn(delta_0, delta_1, max_iter=20)\n",
    "    print(dist_w)"
   ],
   "id": "65cec06d2ce69c63",
   "outputs": [],
   "execution_count": 35
  },
  {
   "metadata": {
    "ExecuteTime": {
     "end_time": "2024-10-11T10:25:59.611545Z",
     "start_time": "2024-10-11T10:25:59.608753Z"
    }
   },
   "cell_type": "code",
   "source": [
    "import matplotlib.pyplot as plt\n",
    "\n",
    "def compare_img(index_data1,index_data2):\n",
    "    \n",
    "    delta_1 =np.zeros(nb_data,)\n",
    "    delta_1[index_data1]=1\n",
    "    delta_2 = np.zeros(nb_data,)\n",
    "    delta_2[index_data2]=1\n",
    "    # compute the distance between the two signals\n",
    "    dist_w = geo_sinkhorn(delta_1, delta_2, max_iter=500)\n",
    "    data1 = data[index_data1]\n",
    "    data2 = data[index_data2]\n",
    "    print(\"dist :\", dist_w)\n",
    "    img_1 = get_image(data1)\n",
    "    img_2 = get_image(data2)\n",
    "    fig, axes = plt.subplots(1, 2, figsize=(10, 10))\n",
    "    axes = axes.flatten()  # Flatten the 2D array of axes\n",
    "    axes[0].imshow(img_1, cmap='gray')\n",
    "    axes[1].imshow(img_2, cmap='gray')\n",
    "    plt.show()"
   ],
   "id": "45c20ee99fbf34e6",
   "outputs": [],
   "execution_count": 36
  },
  {
   "metadata": {},
   "cell_type": "markdown",
   "source": "# Experiment with MNIST and distances",
   "id": "64b79c2d6bda140"
  },
  {
   "metadata": {
    "ExecuteTime": {
     "end_time": "2024-10-11T10:26:03.049977Z",
     "start_time": "2024-10-11T10:26:00.153721Z"
    }
   },
   "cell_type": "code",
   "source": [
    "index_0 = np.where(train_labels==0)[0]\n",
    "index_8 = np.where(train_labels==8)[0]\n",
    "index_5 = np.where(train_labels==5)[0]\n",
    "compare_img(index_0[0], index_0[1])\n",
    "compare_img(index_0[0], index_8[0])\n",
    "compare_img(index_5[12], index_5[0])"
   ],
   "id": "de82968bda879fcf",
   "outputs": [
    {
     "name": "stdout",
     "output_type": "stream",
     "text": [
      "dist : 0.001002003825340749\n"
     ]
    },
    {
     "data": {
      "text/plain": [
       "<Figure size 1000x1000 with 2 Axes>"
      ],
      "image/png": "[encoded data removed]"
     },
     "metadata": {},
     "output_type": "display_data"
    },
    {
     "name": "stdout",
     "output_type": "stream",
     "text": [
      "dist : 0.0024560907658149294\n"
     ]
    },
    {
     "data": {
      "text/plain": [
       "<Figure size 1000x1000 with 2 Axes>"
      ],
      "image/png": "[encoded data removed]"
     },
     "metadata": {},
     "output_type": "display_data"
    },
    {
     "name": "stdout",
     "output_type": "stream",
     "text": [
      "dist : 0.0023833729110923838\n"
     ]
    },
    {
     "data": {
      "text/plain": [
       "<Figure size 1000x1000 with 2 Axes>"
      ],
      "image/png": "[encoded data removed]"
     },
     "metadata": {},
     "output_type": "display_data"
    }
   ],
   "execution_count": 37
  },
  {
   "metadata": {},
   "cell_type": "code",
   "outputs": [],
   "execution_count": null,
   "source": "",
   "id": "b0d9435a16548239"
  }
 ],
 "metadata": {
  "kernelspec": {
   "display_name": "Python 3",
   "language": "python",
   "name": "python3"
  },
  "language_info": {
   "codemirror_mode": {
    "name": "ipython",
    "version": 2
   },
   "file_extension": ".py",
   "mimetype": "text/x-python",
   "name": "python",
   "nbconvert_exporter": "python",
   "pygments_lexer": "ipython2",
   "version": "2.7.6"
  }
 },
 "nbformat": 4,
 "nbformat_minor": 5
}
