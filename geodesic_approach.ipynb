{
 "cells": [
  {
   "metadata": {
    "ExecuteTime": {
     "end_time": "2024-10-18T08:58:59.143107Z",
     "start_time": "2024-10-18T08:58:58.548428Z"
    }
   },
   "cell_type": "code",
   "source": [
    "import torch\n",
    "import torch.nn as nn"
   ],
   "id": "5516df08bd43eab7",
   "outputs": [],
   "execution_count": 2
  },
  {
   "cell_type": "code",
   "id": "initial_id",
   "metadata": {
    "collapsed": true,
    "ExecuteTime": {
     "end_time": "2024-10-18T08:58:59.148395Z",
     "start_time": "2024-10-18T08:58:59.145730Z"
    }
   },
   "source": [
    "\n",
    "\n",
    "class PerceptronTo1D(nn.Module):\n",
    "    def __init__(self, input_size, hidden_size):\n",
    "        super(PerceptronTo1D, self).__init__()\n",
    "        self.fc1 = nn.Linear(2*input_size, hidden_size)  \n",
    "        self.relu = nn.ReLU()                     \n",
    "        self.fc2 = nn.Linear(hidden_size, 1) \n",
    "    def forward(self, x, y):\n",
    "        flow = torch.concatenate([x,y], dim=-1)\n",
    "        flow = self.fc1(flow)              \n",
    "        flow = self.relu(flow)           \n",
    "        flow = self.fc2(flow)     \n",
    "        return flow\n"
   ],
   "outputs": [],
   "execution_count": 3
  },
  {
   "metadata": {
    "ExecuteTime": {
     "end_time": "2024-10-18T08:58:59.242046Z",
     "start_time": "2024-10-18T08:58:59.191846Z"
    }
   },
   "cell_type": "code",
   "source": [
    "import numpy as np\n",
    "from geosink.sinkhorn import GeoSinkhorn\n",
    "from geosink.heat_kernel import laplacian_from_data\n",
    "\n",
    "# Generate data and build graph.\n",
    "data0 = np.random.normal(0, 1, (100, 5))\n",
    "data1 = np.random.normal(5, 1, (100, 5))\n",
    "data = np.concatenate([data0, data1], axis=0)\n",
    "lap = laplacian_from_data(data, sigma=1.0)\n",
    "\n",
    "# instantiate the GeoSinkhorn class\n",
    "geo_sinkhorn = GeoSinkhorn(tau=5.0, order=10, method=\"cheb\", lap=lap)\n",
    "\n",
    "# create two signals\n",
    "m_0 = np.zeros(200,)\n",
    "m_0[:100] = 1\n",
    "m_0 = m_0 / np.sum(m_0)\n",
    "m_1 = np.zeros(200,)\n",
    "m_1[100:] = 1\n",
    "m_1 = m_1 / np.sum(m_1)\n",
    "\n",
    "# compute the distance between the two signals\n",
    "dist_w = geo_sinkhorn(m_0, m_1, max_iter=500)\n",
    "print(dist_w)"
   ],
   "id": "4dc33c5566d5c988",
   "outputs": [
    {
     "name": "stdout",
     "output_type": "stream",
     "text": [
      "2.7631021115928576\n"
     ]
    }
   ],
   "execution_count": 4
  },
  {
   "metadata": {
    "ExecuteTime": {
     "end_time": "2024-10-18T08:58:59.763455Z",
     "start_time": "2024-10-18T08:58:59.254887Z"
    }
   },
   "cell_type": "code",
   "source": [
    "import torchvision\n",
    "\n",
    "# Download MNIST training\n",
    "trainset = torchvision.datasets.MNIST(root='./data', train=True, download=True)\n",
    "testset = torchvision.datasets.MNIST(root='./data', train=False, download=True)\n",
    "\n",
    "#  Convert training data to NumPy arrays\n",
    "train_images = trainset.data.numpy()   # Shape: (60000, 28, 28)\n",
    "train_labels = trainset.targets.numpy()  # Shape: (60000,)\n",
    "test_images = testset.data.numpy()    # Shape: (10000, 28, 28)\n",
    "test_labels = testset.targets.numpy()  # Shape: (10000,)\n",
    "\n",
    "# flatten images into normalized vectors\n",
    "X_train = train_images.reshape(train_images.shape[0], -1) # Shape: (60000, 784)\n",
    "X_test = test_images.reshape(test_images.shape[0], -1)  # Shape: (10000, 784)\n",
    "Y_train = train_labels\n",
    "Y_test = test_labels\n",
    "# shapes print\n",
    "print(f\"Train images shape: {X_train.shape}, Train labels shape: {Y_train.shape}\")\n",
    "print(f\"Test images shape: {X_test.shape}, Test labels shape: {Y_test.shape}\")\n",
    "\n",
    "def get_image(flatten_img):\n",
    "    return flatten_img.reshape(28, 28)"
   ],
   "id": "86ee586a241dbfe",
   "outputs": [
    {
     "name": "stdout",
     "output_type": "stream",
     "text": [
      "Train images shape: (60000, 784), Train labels shape: (60000,)\n",
      "Test images shape: (10000, 784), Test labels shape: (10000,)\n"
     ]
    }
   ],
   "execution_count": 5
  },
  {
   "metadata": {
    "ExecuteTime": {
     "end_time": "2024-10-18T08:58:59.779960Z",
     "start_time": "2024-10-18T08:58:59.778819Z"
    }
   },
   "cell_type": "code",
   "source": "",
   "id": "bb2a32236ab4c4ba",
   "outputs": [],
   "execution_count": null
  },
  {
   "metadata": {
    "ExecuteTime": {
     "end_time": "2024-10-18T08:59:42.129082Z",
     "start_time": "2024-10-18T08:58:59.832932Z"
    }
   },
   "cell_type": "code",
   "source": [
    "import networkx as nx\n",
    "from networkx.algorithms.shortest_paths.weighted import _weight_function, _bellman_ford, _dijkstra\n",
    "from scipy.spatial.distance import cdist\n",
    "import numpy as np\n",
    "from sklearn.neighbors import NearestNeighbors\n",
    "import scipy\n",
    "\n",
    "def johnson(G, weight=\"weight\"):\n",
    "    r\"\"\"Uses Johnson's Algorithm to compute shortest paths.\n",
    "\n",
    "    Johnson's Algorithm finds a shortest path between each pair of\n",
    "    nodes in a weighted graph even if negative weights are present.\n",
    "\n",
    "    Parameters\n",
    "    ----------\n",
    "    G : NetworkX graph\n",
    "\n",
    "    weight : string or function\n",
    "        If this is a string, then edge weights will be accessed via the\n",
    "        edge attribute with this key (that is, the weight of the edge\n",
    "        joining `u` to `v` will be ``G.edges[u, v][weight]``). If no\n",
    "        such edge attribute exists, the weight of the edge is assumed to\n",
    "        be one.\n",
    "\n",
    "        If this is a function, the weight of an edge is the value\n",
    "        returned by the function. The function must accept exactly three\n",
    "        positional arguments: the two endpoints of an edge and the\n",
    "        dictionary of edge attributes for that edge. The function must\n",
    "        return a number.\n",
    "\n",
    "    Returns\n",
    "    -------\n",
    "    distance : dictionary\n",
    "        Dictionary, keyed by source and target, of shortest paths.\n",
    "    \"\"\"\n",
    "    dist = {v: 0 for v in G}\n",
    "    pred = {v: [] for v in G}\n",
    "    weight = _weight_function(G, weight)\n",
    "\n",
    "    # Calculate distance of shortest paths\n",
    "    dist_bellman = _bellman_ford(G, list(G), weight, pred=pred, dist=dist)\n",
    "\n",
    "    # Update the weight function to take into account the Bellman--Ford\n",
    "    # relaxation distances.\n",
    "    def new_weight(u, v, d):\n",
    "        return weight(u, v, d) + dist_bellman[u] - dist_bellman[v]\n",
    "\n",
    "    def dist_path(v):\n",
    "        paths = {v: [v]}\n",
    "        return _dijkstra(G, v, new_weight, paths=paths)\n",
    "\n",
    "    return {v: dist_path(v) for v in G}\n",
    "\n",
    "def geo_dist(G, weight=\"weight\", dtype= None):\n",
    "    \n",
    "    n = G.number_of_nodes()\n",
    "    if dtype is None:\n",
    "        dist_matrix = np.zeros((n, n))\n",
    "    else:\n",
    "        dist_matrix = np.zeros((n, n), dtype=dtype)\n",
    "    \n",
    "    dist = johnson(G, weight=weight)\n",
    "    for vertex,dist_set in dist.items():\n",
    "        for target,distance in dist_set.items():\n",
    "            dist_matrix[vertex][target] = distance\n",
    "    return dist_matrix\n",
    "    \n",
    "\n",
    "def get_adjancency_matrix(data : np.ndarray, k_neighbor, **kwargs):\n",
    "    \"\"\"\n",
    "    \n",
    "    :param data: (n_samples, n_features)\n",
    "    :param n_neighbors: number of neighbors to connect to each element\n",
    "    :param sigma: normalizing std for gaussian \"reach\"\n",
    "    :param alpha: \n",
    "    :param kwargs: \n",
    "    :return: \n",
    "    \"\"\"\n",
    "    neighborhood = NearestNeighbors(n_neighbors=k_neighbor,**kwargs).fit(data)\n",
    "    # Step 2: Find the K nearest neighbors (including self)\n",
    "    distances, indices = neighborhood.kneighbors(data)\n",
    "    \n",
    "    # Step 3: Construct the row, col, and data for the COO sparse matrix\n",
    "    row_indices = np.repeat(np.arange(data.shape[0]), k_neighbor)  # Repeat each point index n_neighbors times\n",
    "    col_indices = indices.flatten() \n",
    "    # Step 4: Create a COO sparse adjacency matrix\n",
    "    coo_adj_matrix = scipy.sparse.coo_matrix((distances.flatten(), (row_indices, col_indices)), shape=(data.shape[0], data.shape[0]))\n",
    "    \n",
    "    return coo_adj_matrix\n",
    "\n",
    "def get_dense_adj(data):\n",
    "    return cdist(data, data, \"euclidean\")\n",
    "    \n",
    "\n",
    "\n",
    "geodesics = torch.from_numpy(get_geo_dist(X_train.astype(np.float16)))\n",
    "\n",
    "\n",
    "\n",
    "\n",
    "    \n",
    "\n"
   ],
   "id": "8eff8e002c0a2490",
   "outputs": [],
   "execution_count": 6
  },
  {
   "metadata": {
    "ExecuteTime": {
     "end_time": "2024-10-18T08:59:42.143424Z",
     "start_time": "2024-10-18T08:59:42.140871Z"
    }
   },
   "cell_type": "code",
   "outputs": [
    {
     "data": {
      "text/plain": [
       "torch.float64"
      ]
     },
     "execution_count": 7,
     "metadata": {},
     "output_type": "execute_result"
    }
   ],
   "execution_count": 7,
   "source": [
    "EPS = 1e-6\n",
    "class ExpandedGeodesicDist(nn.Module):\n",
    "    def __init__(self, data, manifold_speed = 10,k_neighbor = 5, nb_softmin=10, device=None, **kwargs):\n",
    "        \n",
    "        if device is None:\n",
    "            device = torch.device(\"cuda\" if torch.cuda.is_available() else \"cpu\")\n",
    "        adj_sparse = get_adjancency_matrix(data, k_neighbor, **kwargs)\n",
    "    \n",
    "        G:nx.Graph = nx.from_scipy_sparse_array(adj_sparse, create_using=nx.Graph)\n",
    "        \n",
    "        min_dist = adj_sparse[adj_sparse > EPS].min()\n",
    "        self.min_dist = min_dist\n",
    "        self.data = data.to(device)\n",
    "        self.manifold_dist = geo_dist(G)\n",
    "        \n",
    "        index_max_geodesic= self.manifold_dist.argmax()\n",
    "        eucl_dist_max_geo = torch.linalg.vector_norm(data[index_max_geodesic[0]] - data[index_max_geodesic[1]])\n",
    "        manifold_dist_dilatation = self.manifold_dist[index_max_geodesic] / eucl_dist_max_geo\n",
    "        self.manifold_speed = manifold_speed\n",
    "        self.nb_softmin = nb_softmin\n",
    "        self.manifold_dist_dilatation = manifold_dist_dilatation\n",
    "        \n",
    "    def get_knn(self, x):\n",
    "        diff_x = self.data - x \n",
    "        distances = torch.norm(diff_x, dim=1) \n",
    "        closest_distances, indices_x = torch.topk(distances, self.nb_softmin, largest=False)\n",
    "        return closest_distances, indices_x\n",
    "    \n",
    "    @staticmethod\n",
    "    def cartesian_hadamard_product(x,y):\n",
    "        return x[:,None] @ y[None,:] \n",
    "    def forward(self, x,y):\n",
    "        \n",
    "        euc_dist_x, idx = self.get_knn(x)\n",
    "        euc_dist_y, idy = self.get_knn(y)\n",
    "        meshed = torch.meshgrid(idx, idy, indexing=\"ij\")\n",
    "        manifold_dist_projected = self.manifold_dist(meshed)\n",
    "        attention_coefs = 1-torch.nn.functional.softmax(-1*self.cartesian_hadamard_product(euc_dist_x, euc_dist_y) / self.min_dist**2)\n",
    "        \n",
    "        rescaled_dist_to_manifold = self.manifold_dist_dilatation * (euc_dist_x.min() + euc_dist_y.min())\n",
    "        \n",
    "        softmin_geodesic_dist_on_manifold = (attention_coefs * manifold_dist_projected).sum()\n",
    "        \n",
    "        return  rescaled_dist_to_manifold / self.manifold_speed + softmin_geodesic_dist_on_manifold\n",
    "    \n",
    "    \n",
    "\n",
    "        \n",
    "        \n",
    "        \n",
    "        \n",
    "    \n",
    "        "
   ],
   "id": "1b2ceb93666d7bd7"
  },
  {
   "metadata": {
    "ExecuteTime": {
     "end_time": "2024-10-18T08:59:42.215483Z",
     "start_time": "2024-10-18T08:59:42.213876Z"
    }
   },
   "cell_type": "code",
   "source": "",
   "id": "bbc42a21336cbdfc",
   "outputs": [],
   "execution_count": null
  }
 ],
 "metadata": {
  "kernelspec": {
   "display_name": "Python 3",
   "language": "python",
   "name": "python3"
  },
  "language_info": {
   "codemirror_mode": {
    "name": "ipython",
    "version": 2
   },
   "file_extension": ".py",
   "mimetype": "text/x-python",
   "name": "python",
   "nbconvert_exporter": "python",
   "pygments_lexer": "ipython2",
   "version": "2.7.6"
  }
 },
 "nbformat": 4,
 "nbformat_minor": 5
}
